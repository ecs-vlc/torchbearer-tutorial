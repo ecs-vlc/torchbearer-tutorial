{
 "cells": [
  {
   "cell_type": "markdown",
   "metadata": {},
   "source": [
    "This notebook will give a quick intro to training PyTorch models with torchbearer. \n",
    "\n",
    "We’ll need to load in some data and define a model, then we can train it with standard PyTorch and with torchbearer to see how it compares.\n",
    "\n",
    "Before we do that, lets import all the packages we'll need:"
   ]
  },
  {
   "cell_type": "code",
   "execution_count": 1,
   "metadata": {},
   "outputs": [],
   "source": [
    "import torch\n",
    "import torch.nn as nn\n",
    "import torch.optim as optim\n",
    "import torchvision\n",
    "from torchvision import transforms\n",
    "\n",
    "from torchbearer.cv_utils import DatasetValidationSplitter"
   ]
  },
  {
   "cell_type": "markdown",
   "metadata": {},
   "source": [
    "Now lets build our dataloader. We'll use the CIFAR10 dataset from torchvision and create training and testing dataloaders. "
   ]
  },
  {
   "cell_type": "code",
   "execution_count": 2,
   "metadata": {},
   "outputs": [
    {
     "name": "stdout",
     "output_type": "stream",
     "text": [
      "Files already downloaded and verified\n",
      "Files already downloaded and verified\n"
     ]
    }
   ],
   "source": [
    "BATCH_SIZE = 128\n",
    "\n",
    "normalize = transforms.Normalize(mean=[0.5, 0.5, 0.5],\n",
    "                                 std=[1, 1, 1])\n",
    "\n",
    "dataset = torchvision.datasets.CIFAR10(root='./data/cifar', train=True, download=True,\n",
    "                                        transform=transforms.Compose([transforms.ToTensor(), normalize]))\n",
    "\n",
    "traingen =  torch.utils.data.DataLoader(dataset, batch_size=BATCH_SIZE, shuffle=False) \n",
    "\n",
    "testset = torchvision.datasets.CIFAR10(root='./data/cifar', train=False, download=True,\n",
    "                                       transform=transforms.Compose([transforms.ToTensor(), normalize]))\n",
    "testgen = torch.utils.data.DataLoader(testset, batch_size=BATCH_SIZE, shuffle=False)"
   ]
  },
  {
   "cell_type": "markdown",
   "metadata": {},
   "source": [
    "Now lets build our model. Here is a 3 layer CNN with batchnorm, ReLU activations and a final linear layer to classify to CIFAR10s 10 classes. We also create the optimizer and define the criterion. "
   ]
  },
  {
   "cell_type": "code",
   "execution_count": 3,
   "metadata": {},
   "outputs": [],
   "source": [
    "class SimpleModel(nn.Module):\n",
    "    def __init__(self):\n",
    "        super(SimpleModel, self).__init__()\n",
    "        self.convs = nn.Sequential(\n",
    "            nn.Conv2d(3, 16, stride=2, kernel_size=3),\n",
    "            nn.BatchNorm2d(16),\n",
    "            nn.ReLU(),\n",
    "            nn.Conv2d(16, 32, stride=2, kernel_size=3),\n",
    "            nn.BatchNorm2d(32),\n",
    "            nn.ReLU(),\n",
    "            nn.Conv2d(32, 64, stride=2, kernel_size=3),\n",
    "            nn.BatchNorm2d(64),\n",
    "            nn.ReLU()\n",
    "        )\n",
    "\n",
    "        self.classifier = nn.Linear(576, 10)\n",
    "\n",
    "    def forward(self, x):\n",
    "        x = self.convs(x)\n",
    "        x = x.view(-1, 576)\n",
    "        return self.classifier(x)\n",
    "\n",
    "\n",
    "model = SimpleModel().cuda()\n",
    "optimizer = optim.Adam(model.parameters(), lr=0.001)\n",
    "criterion = nn.CrossEntropyLoss()"
   ]
  },
  {
   "cell_type": "markdown",
   "metadata": {},
   "source": [
    "First lets have a look at a standard PyTorch training loop for this type of task. "
   ]
  },
  {
   "cell_type": "code",
   "execution_count": 11,
   "metadata": {},
   "outputs": [
    {
     "name": "stdout",
     "output_type": "stream",
     "text": [
      "Epoch: 1, Batch: 390, Running Loss: 0.8963909865273205\n",
      " **** Finished Training **** \n",
      "\n",
      "Accuracy of the model on the 10000 test images: 0 %\n"
     ]
    }
   ],
   "source": [
    "nEpoch = 2\n",
    "for epoch in range(nEpoch):  # loop over the dataset multiple times\n",
    "    trainloader = iter(traingen)\n",
    "    running_loss = 0.0\n",
    "    for i, data in enumerate(trainloader):\n",
    "        # get the inputs\n",
    "        inputs, labels = data\n",
    "\n",
    "        # wrap them in Variable\n",
    "        inputs, labels = inputs.cuda(), labels.cuda()\n",
    "\n",
    "        # zero the parameter gradients\n",
    "        optimizer.zero_grad()\n",
    "\n",
    "        # forward + backward + optimize\n",
    "        outputs = model(inputs)\n",
    "        loss = criterion(outputs, labels)\n",
    "        loss.backward()\n",
    "        optimizer.step()\n",
    "\n",
    "        # print statistics\n",
    "        running_loss = 0.99 * running_loss + 0.01 * loss.item()\n",
    "        print(\"Epoch: {}, Batch: {}, Running Loss: {}\".format(epoch, i, running_loss), end='\\r')\n",
    "\n",
    "print('\\n **** Finished Training **** \\n')\n",
    "\n",
    "correct = 0\n",
    "total = 0\n",
    "for data in testgen:\n",
    "    images, labels = data\n",
    "    labels = labels.cuda()\n",
    "\n",
    "    outputs = model(images.cuda())\n",
    "    _, predicted = torch.max(outputs.data, 1)\n",
    "    total += labels.size(0)\n",
    "    correct += (predicted == labels).sum()\n",
    "    \n",
    "print('Accuracy of the model on the 10000 test images: %d %%' % (\n",
    "    correct / total))\n",
    "\n"
   ]
  },
  {
   "cell_type": "markdown",
   "metadata": {},
   "source": [
    "We reset the model and optimizer "
   ]
  },
  {
   "cell_type": "code",
   "execution_count": 9,
   "metadata": {},
   "outputs": [],
   "source": [
    "model = SimpleModel().cuda()\n",
    "optimizer = optim.Adam(model.parameters(), lr=0.001)"
   ]
  },
  {
   "cell_type": "markdown",
   "metadata": {},
   "source": [
    "We can see that this takes quite a few lines. Instead, in torchbearer we can achieve the same result with just 4 lines. "
   ]
  },
  {
   "cell_type": "code",
   "execution_count": 10,
   "metadata": {},
   "outputs": [
    {
     "name": "stderr",
     "output_type": "stream",
     "text": [
      "0/2(t): 100%|██████████| 391/391 [00:06<00:00, 56.77it/s, running_acc=0.546, running_loss=1.27, acc=0.474, acc_std=0.499, loss=1.47, loss_std=0.25]\n",
      "0/2(v): 100%|██████████| 79/79 [00:01<00:00, 64.74it/s, val_acc=0.547, val_acc_std=0.498, val_loss=1.26, val_loss_std=0.0828]\n",
      "1/2(t): 100%|██████████| 391/391 [00:06<00:00, 56.93it/s, running_acc=0.62, running_loss=1.07, acc=0.594, acc_std=0.491, loss=1.14, loss_std=0.1]\n",
      "1/2(v): 100%|██████████| 79/79 [00:01<00:00, 65.18it/s, val_acc=0.599, val_acc_std=0.49, val_loss=1.13, val_loss_std=0.0933]\n"
     ]
    },
    {
     "data": {
      "text/plain": [
       "[((391, 79),\n",
       "  {'running_acc': 0.5460000002384185,\n",
       "   'running_loss': 1.2666822719573974,\n",
       "   'acc': 0.47436,\n",
       "   'acc_std': 0.4993421576434339,\n",
       "   'loss': 1.4740624586334619,\n",
       "   'loss_std': 0.24970062229582546,\n",
       "   'val_acc': 0.5474,\n",
       "   'val_acc_std': 0.4977481692583108,\n",
       "   'val_loss': 1.2617988556246214,\n",
       "   'val_loss_std': 0.08279087051484435}),\n",
       " ((391, 79),\n",
       "  {'running_acc': 0.6204375004768372,\n",
       "   'running_loss': 1.0682953095436096,\n",
       "   'acc': 0.59406,\n",
       "   'acc_std': 0.49107302552675397,\n",
       "   'loss': 1.1441477407579836,\n",
       "   'loss_std': 0.10008796427875284,\n",
       "   'val_acc': 0.5987,\n",
       "   'val_acc_std': 0.49016151419710624,\n",
       "   'val_loss': 1.1318027565750894,\n",
       "   'val_loss_std': 0.09329527538470476})]"
      ]
     },
     "execution_count": 10,
     "metadata": {},
     "output_type": "execute_result"
    }
   ],
   "source": [
    "from torchbearer import Trial\n",
    "\n",
    "torchbearer_trial = Trial(model, optimizer, criterion, metrics=['acc', 'loss']).to('cuda')\n",
    "torchbearer_trial.with_generators(train_generator=traingen, val_generator=testgen)\n",
    "torchbearer_trial.run(2)"
   ]
  },
  {
   "cell_type": "code",
   "execution_count": null,
   "metadata": {},
   "outputs": [],
   "source": []
  }
 ],
 "metadata": {
  "kernelspec": {
   "display_name": "Python 3",
   "language": "python",
   "name": "python3"
  },
  "language_info": {
   "codemirror_mode": {
    "name": "ipython",
    "version": 3
   },
   "file_extension": ".py",
   "mimetype": "text/x-python",
   "name": "python",
   "nbconvert_exporter": "python",
   "pygments_lexer": "ipython3",
   "version": "3.6.6"
  }
 },
 "nbformat": 4,
 "nbformat_minor": 2
}
