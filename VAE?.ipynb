{
 "cells": [
  {
   "cell_type": "markdown",
   "metadata": {},
   "source": [
    "# Autoencoders\n",
    "\n",
    "VAEs or even just AEs are fairly complicated compared to the models we've built so far. This notebook will go through training a AE in torchbearer and introduce callbacks and their usefulness. \n",
    "\n",
    "## Setup \n",
    "\n",
    "We done the boring bit of setting up the data loading and transforming data. We've also created a validation set from the training data using the [dataset splitter](https://torchbearer.readthedocs.io/en/latest/code/main.html#torchbearer.cv_utils.DatasetValidationSplitter) provided in torchbearer. "
   ]
  },
  {
   "cell_type": "code",
   "execution_count": 1,
   "metadata": {},
   "outputs": [],
   "source": [
    "import torch\n",
    "import torch.nn as nn\n",
    "import torch.nn.functional as F\n",
    "import torch.optim as optim\n",
    "import torchvision\n",
    "from torch.utils.data.dataset import Dataset\n",
    "from torchvision import transforms\n",
    "from torchvision.utils import save_image\n",
    "import matplotlib.pyplot as plt\n",
    "\n",
    "\n",
    "import torchbearer\n",
    "from torchbearer.cv_utils import DatasetValidationSplitter\n",
    "\n",
    "BATCH_SIZE = 128\n",
    "\n",
    "transform = transforms.Compose([transforms.ToTensor()])\n",
    "\n",
    "# Define standard classification mnist dataset with random validation set\n",
    "\n",
    "dataset = torchvision.datasets.MNIST('./data/mnist', train=True, download=True, transform=transform)\n",
    "splitter = DatasetValidationSplitter(len(dataset), 0.1)\n",
    "trainset = splitter.get_train_dataset(dataset)\n",
    "valset = splitter.get_val_dataset(dataset)\n",
    "\n",
    "traingen = torch.utils.data.DataLoader(trainset, batch_size=BATCH_SIZE, shuffle=True, num_workers=8)\n",
    "\n",
    "valgen = torch.utils.data.DataLoader(valset, batch_size=BATCH_SIZE, shuffle=True, num_workers=8)\n",
    "\n",
    "# State keys\n",
    "MU, LOGVAR = torchbearer.state_key('mu'), torchbearer.state_key('logvar')"
   ]
  },
  {
   "cell_type": "markdown",
   "metadata": {},
   "source": [
    "## Data targets\n",
    "\n",
    "For this problem, our targets are the input images. \n",
    "We have some options to make the dataset we have output images as targets:\n",
    "- Re-write or wrap the dataset to return images\n",
    "- Write a callback that replaces the target with the data\n",
    "- Replace the target with data in the model forward pass\n",
    "\n",
    "If you would like to create a callback to do this, there is a skeleton below, however any of these solutions can be implemented here. The list of preset state keys are defined [here](https://torchbearer.readthedocs.io/en/latest/_modules/torchbearer/state.html#State) at the bottom of the file until we  "
   ]
  },
  {
   "cell_type": "code",
   "execution_count": 2,
   "metadata": {},
   "outputs": [],
   "source": [
    "@torchbearer.callbacks.on_sample\n",
    "@torchbearer.callbacks.on_sample_validation\n",
    "def replace_targets(state):\n",
    "    pass"
   ]
  },
  {
   "cell_type": "markdown",
   "metadata": {},
   "source": [
    "## Model\n",
    "\n",
    "The pytorch model is a bit fiddly so its provided mostly finished below. It might be useful to have access to the mean and log-variance later on, can you add something to the model to do this? "
   ]
  },
  {
   "cell_type": "code",
   "execution_count": 3,
   "metadata": {},
   "outputs": [],
   "source": [
    "class VAE(nn.Module):\n",
    "    def __init__(self):\n",
    "        super(VAE, self).__init__()\n",
    "\n",
    "        self.fc1 = nn.Linear(784, 400)\n",
    "        self.fc21 = nn.Linear(400, 20)\n",
    "        self.fc22 = nn.Linear(400, 20)\n",
    "        self.fc3 = nn.Linear(20, 400)\n",
    "        self.fc4 = nn.Linear(400, 784)\n",
    "\n",
    "    def encode(self, x):\n",
    "        h1 = F.relu(self.fc1(x))\n",
    "        return self.fc21(h1), self.fc22(h1)\n",
    "\n",
    "    def reparameterize(self, mu, logvar):\n",
    "        if self.training:\n",
    "            std = torch.exp(0.5*logvar)\n",
    "            eps = torch.randn_like(std)\n",
    "            return eps.mul(std).add_(mu)\n",
    "        else:\n",
    "            return mu\n",
    "\n",
    "    def decode(self, z):\n",
    "        h3 = F.relu(self.fc3(z))\n",
    "        return torch.sigmoid(self.fc4(h3))\n",
    "\n",
    "    def forward(self, x, state):\n",
    "        mu, logvar = self.encode(x.view(-1, 784))\n",
    "        z = self.reparameterize(mu, logvar)\n",
    "        ## Perhaps add something here? \n",
    "\n",
    "        return self.decode(z)\n",
    "    \n",
    "model = VAE()\n",
    "optimizer = optim.Adam(model.parameters(), lr=0.001)"
   ]
  },
  {
   "cell_type": "markdown",
   "metadata": {},
   "source": [
    "## Visualising\n",
    "\n",
    "For this example we make use of a callback to visualise results."
   ]
  },
  {
   "cell_type": "code",
   "execution_count": 4,
   "metadata": {},
   "outputs": [],
   "source": [
    "@torchbearer.callbacks.once_per_epoch\n",
    "@torchbearer.callbacks.on_step_validation\n",
    "def visualiser(state):\n",
    "    data = state[torchbearer.X]\n",
    "    recon_batch = state[torchbearer.Y_PRED].view(-1, 1, 28, 28)\n",
    "        \n",
    "    fig = plt.figure()\n",
    "    plt.subplot(1,2,1)\n",
    "    plt.title('True')\n",
    "    plt.imshow(data[0].repeat(3,1,1).permute(1,2,0).cpu())\n",
    "            \n",
    "    plt.subplot(1,2,2)\n",
    "    plt.title('Reconstruction')\n",
    "    plt.imshow(recon_batch[0].repeat(3,1,1).permute(1,2,0).cpu())\n",
    "    plt.show()\n"
   ]
  },
  {
   "cell_type": "markdown",
   "metadata": {},
   "source": [
    "## VAE Loss\n",
    "\n",
    "The vae loss is the sum of the BCE_loss (or mse_loss) and the KLD loss. The BCE is a reconstruction loss and so takes y_pred and y_true, the KLD however requires the mean and log-variance. \n",
    "\n",
    "Can you work out how to add the KLD to the loss? Perhaps take a look at the callback decorators ([here](https://torchbearer.readthedocs.io/en/latest/code/callbacks.html#module-torchbearer.callbacks.decorators)) which can take a function of state and create a callback from it. "
   ]
  },
  {
   "cell_type": "code",
   "execution_count": 5,
   "metadata": {},
   "outputs": [
    {
     "name": "stderr",
     "output_type": "stream",
     "text": [
      "0/10(t): 100%|██████████| 422/422 [00:02<00:00, 191.35it/s, running_loss=1.19e+04, loss=1.76e+04, loss_std=7.77e+03]\n",
      "0/10(v):   2%|▏         | 1/47 [00:00<00:00, 195.84it/s]"
     ]
    },
    {
     "data": {
      "image/png": "[encoded data removed]",
      "text/plain": [
       "<Figure size 432x288 with 2 Axes>"
      ]
     },
     "metadata": {},
     "output_type": "display_data"
    },
    {
     "name": "stderr",
     "output_type": "stream",
     "text": [
      "0/10(v): 100%|██████████| 47/47 [00:00<00:00, 127.46it/s, val_loss=1.18e+04, val_loss_std=485]\n",
      "1/10(t): 100%|██████████| 422/422 [00:02<00:00, 186.66it/s, running_loss=1.03e+04, loss=1.08e+04, loss_std=528]\n",
      "1/10(v):   2%|▏         | 1/47 [00:00<00:03, 13.76it/s]"
     ]
    },
    {
     "data": {
      "image/png": "[encoded data removed]",
      "text/plain": [
       "<Figure size 432x288 with 2 Axes>"
      ]
     },
     "metadata": {},
     "output_type": "display_data"
    },
    {
     "name": "stderr",
     "output_type": "stream",
     "text": [
      "1/10(v): 100%|██████████| 47/47 [00:00<00:00, 126.84it/s, val_loss=1.01e+04, val_loss_std=323]\n",
      "2/10(t): 100%|██████████| 422/422 [00:02<00:00, 182.91it/s, running_loss=9.71e+03, loss=9.9e+03, loss_std=310]\n",
      "2/10(v):   2%|▏         | 1/47 [00:00<00:00, 82.65it/s]"
     ]
    },
    {
     "data": {
      "image/png": "[encoded data removed]",
      "text/plain": [
       "<Figure size 432x288 with 2 Axes>"
      ]
     },
     "metadata": {},
     "output_type": "display_data"
    },
    {
     "name": "stderr",
     "output_type": "stream",
     "text": [
      "2/10(v): 100%|██████████| 47/47 [00:00<00:00, 136.56it/s, val_loss=9.7e+03, val_loss_std=310]\n",
      "3/10(t): 100%|██████████| 422/422 [00:02<00:00, 180.35it/s, running_loss=9.44e+03, loss=9.53e+03, loss_std=291]\n",
      "3/10(v):   2%|▏         | 1/47 [00:00<00:00, 76.94it/s]"
     ]
    },
    {
     "data": {
      "image/png": "[encoded data removed]",
      "text/plain": [
       "<Figure size 432x288 with 2 Axes>"
      ]
     },
     "metadata": {},
     "output_type": "display_data"
    },
    {
     "name": "stderr",
     "output_type": "stream",
     "text": [
      "3/10(v): 100%|██████████| 47/47 [00:00<00:00, 149.57it/s, val_loss=9.39e+03, val_loss_std=326]\n",
      "4/10(t): 100%|██████████| 422/422 [00:02<00:00, 194.92it/s, running_loss=9.27e+03, loss=9.3e+03, loss_std=283]\n",
      "4/10(v):   2%|▏         | 1/47 [00:00<00:02, 16.13it/s]"
     ]
    },
    {
     "data": {
      "image/png": "[encoded data removed]",
      "text/plain": [
       "<Figure size 432x288 with 2 Axes>"
      ]
     },
     "metadata": {},
     "output_type": "display_data"
    },
    {
     "name": "stderr",
     "output_type": "stream",
     "text": [
      "4/10(v): 100%|██████████| 47/47 [00:00<00:00, 126.53it/s, val_loss=9.2e+03, val_loss_std=286]\n",
      "5/10(t): 100%|██████████| 422/422 [00:02<00:00, 181.94it/s, running_loss=9.14e+03, loss=9.13e+03, loss_std=262]\n",
      "5/10(v):   2%|▏         | 1/47 [00:00<00:00, 137.12it/s]"
     ]
    },
    {
     "data": {
      "image/png": "[encoded data removed]",
      "text/plain": [
       "<Figure size 432x288 with 2 Axes>"
      ]
     },
     "metadata": {},
     "output_type": "display_data"
    },
    {
     "name": "stderr",
     "output_type": "stream",
     "text": [
      "5/10(v): 100%|██████████| 47/47 [00:00<00:00, 133.44it/s, val_loss=9.1e+03, val_loss_std=291]\n",
      "6/10(t): 100%|██████████| 422/422 [00:02<00:00, 181.11it/s, running_loss=8.95e+03, loss=9e+03, loss_std=241]\n",
      "6/10(v):   2%|▏         | 1/47 [00:00<00:00, 51.07it/s]"
     ]
    },
    {
     "data": {
      "image/png": "[encoded data removed]",
      "text/plain": [
       "<Figure size 432x288 with 2 Axes>"
      ]
     },
     "metadata": {},
     "output_type": "display_data"
    },
    {
     "name": "stderr",
     "output_type": "stream",
     "text": [
      "6/10(v): 100%|██████████| 47/47 [00:00<00:00, 140.30it/s, val_loss=8.96e+03, val_loss_std=283]\n",
      "7/10(t): 100%|██████████| 422/422 [00:02<00:00, 193.15it/s, running_loss=8.9e+03, loss=8.91e+03, loss_std=255]\n",
      "7/10(v):   2%|▏         | 1/47 [00:00<00:00, 48.98it/s]"
     ]
    },
    {
     "data": {
      "image/png": "[encoded data removed]",
      "text/plain": [
       "<Figure size 432x288 with 2 Axes>"
      ]
     },
     "metadata": {},
     "output_type": "display_data"
    },
    {
     "name": "stderr",
     "output_type": "stream",
     "text": [
      "7/10(v): 100%|██████████| 47/47 [00:00<00:00, 146.49it/s, val_loss=8.88e+03, val_loss_std=289]\n",
      "8/10(t): 100%|██████████| 422/422 [00:02<00:00, 194.48it/s, running_loss=8.8e+03, loss=8.82e+03, loss_std=254]\n",
      "8/10(v):   2%|▏         | 1/47 [00:00<00:00, 177.19it/s]"
     ]
    },
    {
     "data": {
      "image/png": "[encoded data removed]",
      "text/plain": [
       "<Figure size 432x288 with 2 Axes>"
      ]
     },
     "metadata": {},
     "output_type": "display_data"
    },
    {
     "name": "stderr",
     "output_type": "stream",
     "text": [
      "8/10(v): 100%|██████████| 47/47 [00:00<00:00, 147.84it/s, val_loss=8.83e+03, val_loss_std=341]\n",
      "9/10(t): 100%|██████████| 422/422 [00:02<00:00, 198.49it/s, running_loss=8.73e+03, loss=8.76e+03, loss_std=239]\n",
      "9/10(v):   2%|▏         | 1/47 [00:00<00:02, 21.30it/s]"
     ]
    },
    {
     "data": {
      "image/png": "[encoded data removed]",
      "text/plain": [
       "<Figure size 432x288 with 2 Axes>"
      ]
     },
     "metadata": {},
     "output_type": "display_data"
    },
    {
     "name": "stderr",
     "output_type": "stream",
     "text": [
      "9/10(v): 100%|██████████| 47/47 [00:00<00:00, 115.40it/s, val_loss=8.77e+03, val_loss_std=370]\n"
     ]
    },
    {
     "data": {
      "text/plain": [
       "[((422, 47),\n",
       "  {'running_loss': 11934.04431640625,\n",
       "   'loss': 17589.66940351007,\n",
       "   'loss_std': 7765.111861290196,\n",
       "   'val_loss': 11793.19448138298,\n",
       "   'val_loss_std': 485.0144205153085}),\n",
       " ((422, 47),\n",
       "  {'running_loss': 10263.5635546875,\n",
       "   'loss': 10785.278007905064,\n",
       "   'loss_std': 527.6597875914655,\n",
       "   'val_loss': 10147.089345079787,\n",
       "   'val_loss_std': 323.1730212930316}),\n",
       " ((422, 47),\n",
       "  {'running_loss': 9713.2602734375,\n",
       "   'loss': 9895.325977488152,\n",
       "   'loss_std': 310.2755054714249,\n",
       "   'val_loss': 9696.70763380984,\n",
       "   'val_loss_std': 309.87979918976407}),\n",
       " ((422, 47),\n",
       "  {'running_loss': 9440.28080078125,\n",
       "   'loss': 9530.804611133739,\n",
       "   'loss_std': 290.66895378622996,\n",
       "   'val_loss': 9388.350263879654,\n",
       "   'val_loss_std': 325.8279198428575}),\n",
       " ((422, 47),\n",
       "  {'running_loss': 9267.021484375,\n",
       "   'loss': 9299.794235735708,\n",
       "   'loss_std': 283.1330092712236,\n",
       "   'val_loss': 9201.499293550532,\n",
       "   'val_loss_std': 286.1603956973073}),\n",
       " ((422, 47),\n",
       "  {'running_loss': 9142.29599609375,\n",
       "   'loss': 9134.044838566351,\n",
       "   'loss_std': 262.0111532079939,\n",
       "   'val_loss': 9096.67814993351,\n",
       "   'val_loss_std': 291.4198519992546}),\n",
       " ((422, 47),\n",
       "  {'running_loss': 8951.17060546875,\n",
       "   'loss': 9001.991685333975,\n",
       "   'loss_std': 240.77883211186827,\n",
       "   'val_loss': 8959.571278673537,\n",
       "   'val_loss_std': 283.34362309962523}),\n",
       " ((422, 47),\n",
       "  {'running_loss': 8901.0296484375,\n",
       "   'loss': 8906.179686342935,\n",
       "   'loss_std': 255.48923660830502,\n",
       "   'val_loss': 8877.97216796875,\n",
       "   'val_loss_std': 288.9381397497526}),\n",
       " ((422, 47),\n",
       "  {'running_loss': 8802.5223828125,\n",
       "   'loss': 8822.42985180317,\n",
       "   'loss_std': 253.55149988290253,\n",
       "   'val_loss': 8828.86293841423,\n",
       "   'val_loss_std': 340.8919180650225}),\n",
       " ((422, 47),\n",
       "  {'running_loss': 8732.633603515626,\n",
       "   'loss': 8755.882406370334,\n",
       "   'loss_std': 239.4990754501318,\n",
       "   'val_loss': 8772.112657912234,\n",
       "   'val_loss_std': 370.4379608698461})]"
      ]
     },
     "execution_count": 5,
     "metadata": {},
     "output_type": "execute_result"
    }
   ],
   "source": [
    "def bce_loss(y_pred, y_true):\n",
    "    BCE = F.binary_cross_entropy(y_pred, y_true.view(-1, 784), reduction='sum')\n",
    "    return BCE\n",
    "\n",
    "\n",
    "def kld_Loss(mu, logvar):\n",
    "    KLD = -0.5 * torch.sum(1 + logvar - mu.pow(2) - logvar.exp())\n",
    "    return KLD\n",
    "\n",
    "loss = bce_loss\n",
    "\n",
    "## TODO: Add something here\n",
    "\n",
    "\n",
    "\n",
    "\n",
    "\n",
    "from torchbearer import Trial\n",
    "\n",
    "torchbearer_trial = Trial(model, optimizer, loss, metrics=['loss'],\n",
    "                          callbacks=[replace_targets, visualiser], pass_state=True).to('cuda')\n",
    "torchbearer_trial.with_generators(train_generator=traingen, val_generator=valgen)\n",
    "torchbearer_trial.run(epochs=10)\n"
   ]
  },
  {
   "cell_type": "code",
   "execution_count": null,
   "metadata": {},
   "outputs": [],
   "source": []
  }
 ],
 "metadata": {
  "kernelspec": {
   "display_name": "Python 3",
   "language": "python",
   "name": "python3"
  },
  "language_info": {
   "codemirror_mode": {
    "name": "ipython",
    "version": 3
   },
   "file_extension": ".py",
   "mimetype": "text/x-python",
   "name": "python",
   "nbconvert_exporter": "python",
   "pygments_lexer": "ipython3",
   "version": "3.6.6"
  }
 },
 "nbformat": 4,
 "nbformat_minor": 2
}
